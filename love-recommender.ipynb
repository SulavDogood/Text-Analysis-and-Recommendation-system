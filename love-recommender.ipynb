{
 "cells": [
  {
   "cell_type": "code",
   "execution_count": 1,
   "id": "e3df0202",
   "metadata": {},
   "outputs": [],
   "source": [
    "import pandas as pd\n",
    "import numpy as np\n",
    "import csv"
   ]
  },
  {
   "cell_type": "code",
   "execution_count": 2,
   "id": "b0e5fff8",
   "metadata": {},
   "outputs": [
    {
     "data": {
      "text/html": [
       "<div>\n",
       "<style scoped>\n",
       "    .dataframe tbody tr th:only-of-type {\n",
       "        vertical-align: middle;\n",
       "    }\n",
       "\n",
       "    .dataframe tbody tr th {\n",
       "        vertical-align: top;\n",
       "    }\n",
       "\n",
       "    .dataframe thead th {\n",
       "        text-align: right;\n",
       "    }\n",
       "</style>\n",
       "<table border=\"1\" class=\"dataframe\">\n",
       "  <thead>\n",
       "    <tr style=\"text-align: right;\">\n",
       "      <th></th>\n",
       "      <th>age</th>\n",
       "      <th>body_type</th>\n",
       "      <th>drinks</th>\n",
       "      <th>drugs</th>\n",
       "      <th>education</th>\n",
       "      <th>ethnicity</th>\n",
       "      <th>height</th>\n",
       "      <th>income</th>\n",
       "      <th>job</th>\n",
       "      <th>location</th>\n",
       "      <th>last_online</th>\n",
       "      <th>orientation</th>\n",
       "      <th>sex</th>\n",
       "      <th>sign</th>\n",
       "      <th>religion</th>\n",
       "      <th>smokes</th>\n",
       "      <th>status</th>\n",
       "      <th>description</th>\n",
       "    </tr>\n",
       "  </thead>\n",
       "  <tbody>\n",
       "    <tr>\n",
       "      <th>0</th>\n",
       "      <td>22</td>\n",
       "      <td>a little extra</td>\n",
       "      <td>socially</td>\n",
       "      <td>never</td>\n",
       "      <td>working on college/university</td>\n",
       "      <td>asian, white</td>\n",
       "      <td>75.0</td>\n",
       "      <td>-1</td>\n",
       "      <td>transportation</td>\n",
       "      <td>south san francisco, california</td>\n",
       "      <td>2012-06-28-20-30</td>\n",
       "      <td>straight</td>\n",
       "      <td>m</td>\n",
       "      <td>gemini</td>\n",
       "      <td>agnosticism and very serious about it</td>\n",
       "      <td>sometimes</td>\n",
       "      <td>single</td>\n",
       "      <td>about me:&lt;br /&gt;\\n&lt;br /&gt;\\ni would love to think...</td>\n",
       "    </tr>\n",
       "    <tr>\n",
       "      <th>1</th>\n",
       "      <td>35</td>\n",
       "      <td>average</td>\n",
       "      <td>often</td>\n",
       "      <td>sometimes</td>\n",
       "      <td>working on space camp</td>\n",
       "      <td>white</td>\n",
       "      <td>70.0</td>\n",
       "      <td>80000</td>\n",
       "      <td>hospitality / travel</td>\n",
       "      <td>oakland, california</td>\n",
       "      <td>2012-06-29-21-41</td>\n",
       "      <td>straight</td>\n",
       "      <td>m</td>\n",
       "      <td>cancer</td>\n",
       "      <td>agnosticism but not too serious about it</td>\n",
       "      <td>no</td>\n",
       "      <td>single</td>\n",
       "      <td>i am a chef: this is what that means.&lt;br /&gt;\\n1...</td>\n",
       "    </tr>\n",
       "  </tbody>\n",
       "</table>\n",
       "</div>"
      ],
      "text/plain": [
       "   age       body_type    drinks      drugs                      education  \\\n",
       "0   22  a little extra  socially      never  working on college/university   \n",
       "1   35         average     often  sometimes          working on space camp   \n",
       "\n",
       "      ethnicity  height  income                   job  \\\n",
       "0  asian, white    75.0      -1        transportation   \n",
       "1         white    70.0   80000  hospitality / travel   \n",
       "\n",
       "                          location       last_online orientation sex    sign  \\\n",
       "0  south san francisco, california  2012-06-28-20-30    straight   m  gemini   \n",
       "1              oakland, california  2012-06-29-21-41    straight   m  cancer   \n",
       "\n",
       "                                   religion     smokes  status  \\\n",
       "0     agnosticism and very serious about it  sometimes  single   \n",
       "1  agnosticism but not too serious about it         no  single   \n",
       "\n",
       "                                         description  \n",
       "0  about me:<br />\\n<br />\\ni would love to think...  \n",
       "1  i am a chef: this is what that means.<br />\\n1...  "
      ]
     },
     "execution_count": 2,
     "metadata": {},
     "output_type": "execute_result"
    }
   ],
   "source": [
    "#the dataset where description is one single column.\n",
    "data = pd.read_csv('cupid-small.csv')\n",
    "data.head(2)"
   ]
  },
  {
   "cell_type": "code",
   "execution_count": 3,
   "id": "b9bcb397",
   "metadata": {},
   "outputs": [
    {
     "data": {
      "text/plain": [
       "array([ 22,  35,  38,  23,  29,  32,  31,  24,  37,  28,  30,  39,  33,\n",
       "        26,  27,  20,  25,  40,  36,  21,  34,  43,  46,  41,  42,  45,\n",
       "        18,  55,  50,  59,  44,  48,  54,  51,  62,  52,  19,  58,  66,\n",
       "        53,  63,  47,  49,  61,  60,  57,  56,  65,  64,  68, 110,  69,\n",
       "        67])"
      ]
     },
     "execution_count": 3,
     "metadata": {},
     "output_type": "execute_result"
    }
   ],
   "source": [
    "#checking the ages of people in the dataset.\n",
    "data.age.unique()"
   ]
  },
  {
   "cell_type": "code",
   "execution_count": 4,
   "id": "879abcf6",
   "metadata": {},
   "outputs": [
    {
     "data": {
      "text/html": [
       "<div>\n",
       "<style scoped>\n",
       "    .dataframe tbody tr th:only-of-type {\n",
       "        vertical-align: middle;\n",
       "    }\n",
       "\n",
       "    .dataframe tbody tr th {\n",
       "        vertical-align: top;\n",
       "    }\n",
       "\n",
       "    .dataframe thead th {\n",
       "        text-align: right;\n",
       "    }\n",
       "</style>\n",
       "<table border=\"1\" class=\"dataframe\">\n",
       "  <thead>\n",
       "    <tr style=\"text-align: right;\">\n",
       "      <th></th>\n",
       "      <th>age</th>\n",
       "      <th>body_type</th>\n",
       "      <th>drinks</th>\n",
       "      <th>drugs</th>\n",
       "      <th>education</th>\n",
       "      <th>ethnicity</th>\n",
       "      <th>height</th>\n",
       "      <th>income</th>\n",
       "      <th>job</th>\n",
       "      <th>location</th>\n",
       "      <th>last_online</th>\n",
       "      <th>orientation</th>\n",
       "      <th>sex</th>\n",
       "      <th>sign</th>\n",
       "      <th>religion</th>\n",
       "      <th>smokes</th>\n",
       "      <th>status</th>\n",
       "      <th>description</th>\n",
       "      <th>age_category</th>\n",
       "    </tr>\n",
       "  </thead>\n",
       "  <tbody>\n",
       "    <tr>\n",
       "      <th>0</th>\n",
       "      <td>22</td>\n",
       "      <td>a little extra</td>\n",
       "      <td>socially</td>\n",
       "      <td>never</td>\n",
       "      <td>working on college/university</td>\n",
       "      <td>asian, white</td>\n",
       "      <td>75.0</td>\n",
       "      <td>-1</td>\n",
       "      <td>transportation</td>\n",
       "      <td>south san francisco, california</td>\n",
       "      <td>2012-06-28-20-30</td>\n",
       "      <td>straight</td>\n",
       "      <td>m</td>\n",
       "      <td>gemini</td>\n",
       "      <td>agnosticism and very serious about it</td>\n",
       "      <td>sometimes</td>\n",
       "      <td>single</td>\n",
       "      <td>about me:&lt;br /&gt;\\n&lt;br /&gt;\\ni would love to think...</td>\n",
       "      <td>18-25</td>\n",
       "    </tr>\n",
       "    <tr>\n",
       "      <th>1</th>\n",
       "      <td>35</td>\n",
       "      <td>average</td>\n",
       "      <td>often</td>\n",
       "      <td>sometimes</td>\n",
       "      <td>working on space camp</td>\n",
       "      <td>white</td>\n",
       "      <td>70.0</td>\n",
       "      <td>80000</td>\n",
       "      <td>hospitality / travel</td>\n",
       "      <td>oakland, california</td>\n",
       "      <td>2012-06-29-21-41</td>\n",
       "      <td>straight</td>\n",
       "      <td>m</td>\n",
       "      <td>cancer</td>\n",
       "      <td>agnosticism but not too serious about it</td>\n",
       "      <td>no</td>\n",
       "      <td>single</td>\n",
       "      <td>i am a chef: this is what that means.&lt;br /&gt;\\n1...</td>\n",
       "      <td>25-35</td>\n",
       "    </tr>\n",
       "    <tr>\n",
       "      <th>2</th>\n",
       "      <td>38</td>\n",
       "      <td>thin</td>\n",
       "      <td>socially</td>\n",
       "      <td>don't know</td>\n",
       "      <td>graduated from masters program</td>\n",
       "      <td>don't know</td>\n",
       "      <td>68.0</td>\n",
       "      <td>-1</td>\n",
       "      <td>don't know</td>\n",
       "      <td>san francisco, california</td>\n",
       "      <td>2012-06-27-09-10</td>\n",
       "      <td>straight</td>\n",
       "      <td>m</td>\n",
       "      <td>pisces but it doesn&amp;rsquo;t matter</td>\n",
       "      <td>don't know</td>\n",
       "      <td>no</td>\n",
       "      <td>available</td>\n",
       "      <td>i'm not ashamed of much, but writing public te...</td>\n",
       "      <td>36 and above</td>\n",
       "    </tr>\n",
       "    <tr>\n",
       "      <th>3</th>\n",
       "      <td>23</td>\n",
       "      <td>thin</td>\n",
       "      <td>socially</td>\n",
       "      <td>don't know</td>\n",
       "      <td>working on college/university</td>\n",
       "      <td>white</td>\n",
       "      <td>71.0</td>\n",
       "      <td>20000</td>\n",
       "      <td>student</td>\n",
       "      <td>berkeley, california</td>\n",
       "      <td>2012-06-28-14-22</td>\n",
       "      <td>straight</td>\n",
       "      <td>m</td>\n",
       "      <td>pisces</td>\n",
       "      <td>don't know</td>\n",
       "      <td>no</td>\n",
       "      <td>single</td>\n",
       "      <td>i work in a library and go to school. . . read...</td>\n",
       "      <td>18-25</td>\n",
       "    </tr>\n",
       "    <tr>\n",
       "      <th>4</th>\n",
       "      <td>29</td>\n",
       "      <td>athletic</td>\n",
       "      <td>socially</td>\n",
       "      <td>never</td>\n",
       "      <td>graduated from college/university</td>\n",
       "      <td>asian, black, other</td>\n",
       "      <td>66.0</td>\n",
       "      <td>-1</td>\n",
       "      <td>artistic / musical / writer</td>\n",
       "      <td>san francisco, california</td>\n",
       "      <td>2012-06-27-21-26</td>\n",
       "      <td>straight</td>\n",
       "      <td>m</td>\n",
       "      <td>aquarius</td>\n",
       "      <td>don't know</td>\n",
       "      <td>no</td>\n",
       "      <td>single</td>\n",
       "      <td>hey how's it going? currently vague on the pro...</td>\n",
       "      <td>25-35</td>\n",
       "    </tr>\n",
       "  </tbody>\n",
       "</table>\n",
       "</div>"
      ],
      "text/plain": [
       "   age       body_type    drinks       drugs  \\\n",
       "0   22  a little extra  socially       never   \n",
       "1   35         average     often   sometimes   \n",
       "2   38            thin  socially  don't know   \n",
       "3   23            thin  socially  don't know   \n",
       "4   29        athletic  socially       never   \n",
       "\n",
       "                           education            ethnicity  height  income  \\\n",
       "0      working on college/university         asian, white    75.0      -1   \n",
       "1              working on space camp                white    70.0   80000   \n",
       "2     graduated from masters program           don't know    68.0      -1   \n",
       "3      working on college/university                white    71.0   20000   \n",
       "4  graduated from college/university  asian, black, other    66.0      -1   \n",
       "\n",
       "                           job                         location  \\\n",
       "0               transportation  south san francisco, california   \n",
       "1         hospitality / travel              oakland, california   \n",
       "2                   don't know        san francisco, california   \n",
       "3                      student             berkeley, california   \n",
       "4  artistic / musical / writer        san francisco, california   \n",
       "\n",
       "        last_online orientation sex                                sign  \\\n",
       "0  2012-06-28-20-30    straight   m                              gemini   \n",
       "1  2012-06-29-21-41    straight   m                              cancer   \n",
       "2  2012-06-27-09-10    straight   m  pisces but it doesn&rsquo;t matter   \n",
       "3  2012-06-28-14-22    straight   m                              pisces   \n",
       "4  2012-06-27-21-26    straight   m                            aquarius   \n",
       "\n",
       "                                   religion     smokes     status  \\\n",
       "0     agnosticism and very serious about it  sometimes     single   \n",
       "1  agnosticism but not too serious about it         no     single   \n",
       "2                                don't know         no  available   \n",
       "3                                don't know         no     single   \n",
       "4                                don't know         no     single   \n",
       "\n",
       "                                         description  age_category  \n",
       "0  about me:<br />\\n<br />\\ni would love to think...         18-25  \n",
       "1  i am a chef: this is what that means.<br />\\n1...         25-35  \n",
       "2  i'm not ashamed of much, but writing public te...  36 and above  \n",
       "3  i work in a library and go to school. . . read...         18-25  \n",
       "4  hey how's it going? currently vague on the pro...         25-35  "
      ]
     },
     "execution_count": 4,
     "metadata": {},
     "output_type": "execute_result"
    }
   ],
   "source": [
    "#categorizing ages.\n",
    "def age_category(row):\n",
    "    age = row[\"age\"]\n",
    "    if age<=25:\n",
    "        return \"18-25\"\n",
    "    elif 26 <= age <= 35:\n",
    "        return \"25-35\"\n",
    "    else:\n",
    "        return \"36 and above\"\n",
    "data[\"age_category\"] = data.apply(age_category, axis=1)\n",
    "data.head(5)"
   ]
  },
  {
   "cell_type": "code",
   "execution_count": 5,
   "id": "8119c265",
   "metadata": {},
   "outputs": [
    {
     "data": {
      "text/plain": [
       "25-35           11933\n",
       "36 and above     6890\n",
       "18-25            6177\n",
       "Name: age_category, dtype: int64"
      ]
     },
     "execution_count": 5,
     "metadata": {},
     "output_type": "execute_result"
    }
   ],
   "source": [
    "data.age_category.value_counts()"
   ]
  },
  {
   "cell_type": "code",
   "execution_count": 6,
   "id": "9509be8c",
   "metadata": {},
   "outputs": [],
   "source": [
    "#giving the user an option to choose their preferred age.\n",
    "import ipywidgets as widgets\n",
    "from IPython.display import display\n",
    "\n",
    "age_options = ['18-25', '25-35', '36 and above',\"don't care\"]\n",
    "sex_list = list(data.sex.unique())"
   ]
  },
  {
   "cell_type": "code",
   "execution_count": 7,
   "id": "db0006ab",
   "metadata": {},
   "outputs": [
    {
     "data": {
      "application/vnd.jupyter.widget-view+json": {
       "model_id": "27b70953fc024c0b96288d4a120fb7a7",
       "version_major": 2,
       "version_minor": 0
      },
      "text/plain": [
       "Dropdown(description='Age range:', options=('18-25', '25-35', '36 and above', \"don't care\"), value='18-25')"
      ]
     },
     "metadata": {},
     "output_type": "display_data"
    },
    {
     "data": {
      "application/vnd.jupyter.widget-view+json": {
       "model_id": "a422b29a4a034e608e3ead1040f54fe6",
       "version_major": 2,
       "version_minor": 0
      },
      "text/plain": [
       "Dropdown(description='Preferd sex:', options=('m', 'f'), value='m')"
      ]
     },
     "metadata": {},
     "output_type": "display_data"
    }
   ],
   "source": [
    "choose_age = widgets.Dropdown(options=age_options, description='Age range:')\n",
    "choose_sex = widgets.Dropdown(options=sex_list, description='Preferd sex:')\n",
    "display(choose_age)\n",
    "display(choose_sex)\n",
    "#Note:Please don't run the cell after you have selected the option from dropdown just select and move to next cell."
   ]
  },
  {
   "cell_type": "code",
   "execution_count": 8,
   "id": "f8b67bbb",
   "metadata": {},
   "outputs": [
    {
     "name": "stdout",
     "output_type": "stream",
     "text": [
      "18-25 m\n"
     ]
    }
   ],
   "source": [
    "chosen_age = choose_age.value\n",
    "chosen_sex = choose_sex.value\n",
    "print(chosen_age, chosen_sex)"
   ]
  },
  {
   "cell_type": "code",
   "execution_count": 9,
   "id": "f0e32403",
   "metadata": {},
   "outputs": [],
   "source": [
    "if chosen_age == \"don't care\":\n",
    "    filtered_data = data[(data['sex'] == chosen_sex)]\n",
    "else:\n",
    "    filtered_data = data[(data['age_category'] == chosen_age) & (data['sex'] == chosen_sex)]"
   ]
  },
  {
   "cell_type": "code",
   "execution_count": 10,
   "id": "113fcf25",
   "metadata": {},
   "outputs": [
    {
     "data": {
      "text/html": [
       "<div>\n",
       "<style scoped>\n",
       "    .dataframe tbody tr th:only-of-type {\n",
       "        vertical-align: middle;\n",
       "    }\n",
       "\n",
       "    .dataframe tbody tr th {\n",
       "        vertical-align: top;\n",
       "    }\n",
       "\n",
       "    .dataframe thead th {\n",
       "        text-align: right;\n",
       "    }\n",
       "</style>\n",
       "<table border=\"1\" class=\"dataframe\">\n",
       "  <thead>\n",
       "    <tr style=\"text-align: right;\">\n",
       "      <th></th>\n",
       "      <th>age</th>\n",
       "      <th>body_type</th>\n",
       "      <th>drinks</th>\n",
       "      <th>drugs</th>\n",
       "      <th>education</th>\n",
       "      <th>ethnicity</th>\n",
       "      <th>height</th>\n",
       "      <th>income</th>\n",
       "      <th>job</th>\n",
       "      <th>location</th>\n",
       "      <th>last_online</th>\n",
       "      <th>orientation</th>\n",
       "      <th>sex</th>\n",
       "      <th>sign</th>\n",
       "      <th>religion</th>\n",
       "      <th>smokes</th>\n",
       "      <th>status</th>\n",
       "      <th>description</th>\n",
       "      <th>age_category</th>\n",
       "    </tr>\n",
       "  </thead>\n",
       "  <tbody>\n",
       "    <tr>\n",
       "      <th>0</th>\n",
       "      <td>22</td>\n",
       "      <td>a little extra</td>\n",
       "      <td>socially</td>\n",
       "      <td>never</td>\n",
       "      <td>working on college/university</td>\n",
       "      <td>asian, white</td>\n",
       "      <td>75.0</td>\n",
       "      <td>-1</td>\n",
       "      <td>transportation</td>\n",
       "      <td>south san francisco, california</td>\n",
       "      <td>2012-06-28-20-30</td>\n",
       "      <td>straight</td>\n",
       "      <td>m</td>\n",
       "      <td>gemini</td>\n",
       "      <td>agnosticism and very serious about it</td>\n",
       "      <td>sometimes</td>\n",
       "      <td>single</td>\n",
       "      <td>about me:&lt;br /&gt;\\n&lt;br /&gt;\\ni would love to think...</td>\n",
       "      <td>18-25</td>\n",
       "    </tr>\n",
       "    <tr>\n",
       "      <th>3</th>\n",
       "      <td>23</td>\n",
       "      <td>thin</td>\n",
       "      <td>socially</td>\n",
       "      <td>don't know</td>\n",
       "      <td>working on college/university</td>\n",
       "      <td>white</td>\n",
       "      <td>71.0</td>\n",
       "      <td>20000</td>\n",
       "      <td>student</td>\n",
       "      <td>berkeley, california</td>\n",
       "      <td>2012-06-28-14-22</td>\n",
       "      <td>straight</td>\n",
       "      <td>m</td>\n",
       "      <td>pisces</td>\n",
       "      <td>don't know</td>\n",
       "      <td>no</td>\n",
       "      <td>single</td>\n",
       "      <td>i work in a library and go to school. . . read...</td>\n",
       "      <td>18-25</td>\n",
       "    </tr>\n",
       "    <tr>\n",
       "      <th>12</th>\n",
       "      <td>24</td>\n",
       "      <td>don't know</td>\n",
       "      <td>often</td>\n",
       "      <td>don't know</td>\n",
       "      <td>don't know</td>\n",
       "      <td>white</td>\n",
       "      <td>72.0</td>\n",
       "      <td>-1</td>\n",
       "      <td>entertainment / media</td>\n",
       "      <td>san francisco, california</td>\n",
       "      <td>2012-05-28-21-28</td>\n",
       "      <td>straight</td>\n",
       "      <td>m</td>\n",
       "      <td>taurus</td>\n",
       "      <td>other</td>\n",
       "      <td>don't know</td>\n",
       "      <td>single</td>\n",
       "      <td>bang my shit bang</td>\n",
       "      <td>18-25</td>\n",
       "    </tr>\n",
       "  </tbody>\n",
       "</table>\n",
       "</div>"
      ],
      "text/plain": [
       "    age       body_type    drinks       drugs                      education  \\\n",
       "0    22  a little extra  socially       never  working on college/university   \n",
       "3    23            thin  socially  don't know  working on college/university   \n",
       "12   24      don't know     often  don't know                     don't know   \n",
       "\n",
       "       ethnicity  height  income                    job  \\\n",
       "0   asian, white    75.0      -1         transportation   \n",
       "3          white    71.0   20000                student   \n",
       "12         white    72.0      -1  entertainment / media   \n",
       "\n",
       "                           location       last_online orientation sex    sign  \\\n",
       "0   south san francisco, california  2012-06-28-20-30    straight   m  gemini   \n",
       "3              berkeley, california  2012-06-28-14-22    straight   m  pisces   \n",
       "12        san francisco, california  2012-05-28-21-28    straight   m  taurus   \n",
       "\n",
       "                                 religion      smokes  status  \\\n",
       "0   agnosticism and very serious about it   sometimes  single   \n",
       "3                              don't know          no  single   \n",
       "12                                  other  don't know  single   \n",
       "\n",
       "                                          description age_category  \n",
       "0   about me:<br />\\n<br />\\ni would love to think...        18-25  \n",
       "3   i work in a library and go to school. . . read...        18-25  \n",
       "12                                  bang my shit bang        18-25  "
      ]
     },
     "execution_count": 10,
     "metadata": {},
     "output_type": "execute_result"
    }
   ],
   "source": [
    "filtered_data.head(3)"
   ]
  },
  {
   "cell_type": "code",
   "execution_count": 11,
   "id": "2c4a7924",
   "metadata": {},
   "outputs": [
    {
     "data": {
      "text/plain": [
       "3770"
      ]
     },
     "execution_count": 11,
     "metadata": {},
     "output_type": "execute_result"
    }
   ],
   "source": [
    "len(filtered_data)"
   ]
  },
  {
   "cell_type": "code",
   "execution_count": 12,
   "id": "da7f8c47",
   "metadata": {},
   "outputs": [],
   "source": [
    "import re\n",
    "\n",
    "def clean_text_list(text_list):\n",
    "    cleaned_texts = []\n",
    "    for text in text_list:\n",
    "        #Converting to lowercase\n",
    "        text = text.lower()\n",
    "        \n",
    "        #Removing HTML tags\n",
    "        text = re.sub(r\"<br\\s?/?>\", \" \", text)\n",
    "        \n",
    "        #Removing non-alphabetic characters\n",
    "        text = re.sub(r\"[^a-zA-Z\\s]\", \"\", text)\n",
    "        \n",
    "        #Removing extra whitespaces\n",
    "        text = re.sub(r\"\\s+\", \" \", text)\n",
    "        \n",
    "        cleaned_texts.append(text.strip())\n",
    "    \n",
    "    return cleaned_texts\n",
    "\n"
   ]
  },
  {
   "cell_type": "code",
   "execution_count": 13,
   "id": "e718ece2",
   "metadata": {},
   "outputs": [],
   "source": [
    "#Cleaning the input description of user.\n",
    "def clean_text(text):\n",
    "    text = text.lower()\n",
    "    text = re.sub(r\"<br\\s?/?>\", \" \", text)\n",
    "    text = re.sub(r\"[^a-zA-Z\\s]\", \"\", text)\n",
    "    text = re.sub(r\"\\s+\", \" \", text)\n",
    "\n",
    "    return text.strip()"
   ]
  },
  {
   "cell_type": "code",
   "execution_count": 14,
   "id": "be7da904",
   "metadata": {},
   "outputs": [],
   "source": [
    "# only selecting the descriptions of people the user has filtered in the dataset.\n",
    "descriptions = []\n",
    "for i in range(len(filtered_data)):\n",
    "    description = str(filtered_data.iloc[i]['description'])\n",
    "    descriptions.append(description)\n",
    "#print(descriptions[77:79])"
   ]
  },
  {
   "cell_type": "code",
   "execution_count": 15,
   "id": "3a7058b2",
   "metadata": {},
   "outputs": [
    {
     "name": "stdout",
     "output_type": "stream",
     "text": [
      "3770\n"
     ]
    }
   ],
   "source": [
    "\n",
    "cleaned_descriptions = clean_text_list((descriptions))\n",
    "\n",
    "print(len(cleaned_descriptions))\n"
   ]
  },
  {
   "cell_type": "markdown",
   "id": "42f92253",
   "metadata": {},
   "source": [
    "For the similarity analysis I will be using TfidfVectorizer. TF measures word frequency within a document, while IDF evaluates word importance across multiple documents. The vectorizer combines these metrics to create a numerical representation for each document. Words that appear frequently within a document but are rare across the corpus receive higher values, emphasizing their significance. This numerical representation is essential for machine learning tasks involving text, such as document classification and information retrieval, as it captures the relative importance of words in distinguishing and analyzing documents."
   ]
  },
  {
   "cell_type": "code",
   "execution_count": 16,
   "id": "3c8d9d9a",
   "metadata": {},
   "outputs": [
    {
     "name": "stdout",
     "output_type": "stream",
     "text": [
      "please ener your description.my name is sulav. I like to have sex.\n",
      "Top 5 matching descriptions: \n",
      "\n",
      "just tryna have some fun on here so lets get it poppin school and working out well youll see sex friends fam money music and more sex the marines sex food chilling is lol you tryna do something\n",
      "\n",
      "working on the degree and searching for career jobs art and design school and sports long eye lashes i am into too many movies i own about of them as far as music goes i will listen to just about anything sex sports art sex sports architecture psychology astrophysics philosophy thinking about what i should do that night i am using this site to find a sex partner with no strings attached you are attractive and want sex\n",
      "\n",
      "i can be harsh at times but its honesty i like to have fun and go out but i never object to staying in and hanging out sex smile food sex alcohol my family money heart the future out partying and having a good time you know youre sexy because self confidence is in my book\n",
      "\n",
      "i am always myself i am not looking to get serious just need to have fun while im still young i dont mean just hooking up i want someone that knows how to have fun i am bored with my old friends and need to find new companions i feel like its easier for me to meet people in real life every day im hustlin haha but really gettin things done what ever it is im the man for the job and if i cant do it i know someone who can my hair or that i smell like weed too many not gunna bother family food money sex weed umm some other stuff sex and money im not a pimp i just got bills to pay and lets be real what guy doesnt think about sex alot partying or sleeping im a very private person and an not going to tell u much on the internet ask me in person or in a message you know of something fun happening soon\n",
      "\n",
      "heres the short version i want a girlfriend i have basically nothing but time on my hands but i dont need anymore attention than you feel like giving im a nice guy i like to share and make my friends happy i grow the best buds and smoke them everyday im not lazy and im always down for a new and exciting adventure feel free to read my ramblings you should ask me ill tell you anything you want to know most peoples first impression is i look young immature or some other wrong assumption you should try getting to know me before you judge me youd be surprised dont go off my profile that i got stoned and typed up in minutes im a catch i know that because all my exs told me that and so did there friends i dont know know what to say to different myself from the dipshits on here but you should meet me i might just be able to restore some small faith in you for real men im not trying to be cynical but it seems like the only girls i would date on here are never interested even though those are normally the girls i date when not meeting off the internet i have standards and wont just settle for anything that comes my way that doesnt mean you have to be a model and fuck me all the time it simply means i want to be interested in someone more than for just a night i like hearing horror stories from dates off of here sadly ive had more bad than good so far i dont get the point of trying to make your pictures look better than you really are its deceiving its not all about looks but there has to be mutual attraction if anything my pictures look worse or exactly like me most girls have said im a lot more handsome in person than my photos i enjoy looking good anyways im not just looking for sex and im not looking to get married within the next year or two i want to take things day by day if we like each other well keep talking to each other and if im talking to you then im not talking to any other girls i want some to go out and do things with seeing movies going out to dinner and such arent exactly the same by yourself im used to being in a relationship i was focusing on work taking a break now im starting to miss having someone to spend time with wake up next to go out with and have fun i want someone i can trust and be my friend and have mind blowing amazing sex too i can say without any ego if i want to i can easily give you the best sexual experience of your life sex without love is as meaningless as love without sex i dont lie im not a manwhore though seriously girls have told me theyve never orgasmed during sex i change that statement within minutes and then many times over i dont just fuck like a porn star im hung like one too i really enjoy giving pleasure and im great at it it makes me happy to make someone i like happy im down for just friends too all mine right now are in their s mostly married and some with kids besides the occasional weekend or playing golf none of them are too social i get out and do stuff by myself but its not usually half as fun if i knew anyone here closer to my age i probably wouldnt be on here about me i am moved out here to follow my dreams lived here two years now just moved into the city from oakland i plan on being in the bay area for quite a while till i have enough to move to europe i play golf every week with a few shots of jack daniels and a bowl or three of herb with some friends im going to go to college for agricultural studies right now i currently am growing medicine for local dispensaries id like to have a farm really a winery as well as my special garden im not some dipshit with a plant in his closet ive been studying how to grow since i was and have always planned on growing originally i was going to head up to canada but fuck that california is where its at im great at what i do and i work my ass off people think its as easy as water wait cut smoke well your wrong a lot goes into it and you need to know what your doing and have the time dedicated to do it if you want to make a living i take care of my plants like their my babies i support myself am my own boss i work my ass of at night and have all day to spend as i wish i consider myself lucky for being able to live of something i love and have a passion for instead of being stuck in some cubicle the rest of my life i feel like ive already said too much but lets just say i make enough to live and have an excellent time while living ill get the two negatives about me out of the way i smoke pot luckily it doesnt really affect me other than i feel fantastic i dont get retarded or lazy like some im skinny really if thats a negative fuck you oh and i mean that in the nicest way possible i eat like a fat ass i eat breakfast brunch lunch supper and dinner and someday soon my metabolism is going to catch up with me and i wont be able to eat innout burger and ben and jerrys everyday stick with me till then and i have an even sexier body having a good time being alive gardening cooking kissing relaxing my eyes or that im skinny hunter s thompson the man movies good ones im a huge movie buff way too many to list if i had to choose it would be between slaughter house clockwork orange and drstrangelove music again good stuff ill listen to anything except pop country and emo stuff my favorite is bob dylan and grateful dead but i listen to a lot of rap and classical getting into jazz and i like a lot of indie food favorite has to be homemade biscuits and gravy with bacon good times good buds good friends sunshine rainy days happiness work things i want to accomplish out im willing to meet girls off the internet youre cute and have a awesome personality and youre willing to meet in person\n",
      "\n"
     ]
    }
   ],
   "source": [
    "import numpy as np\n",
    "from sklearn.feature_extraction.text import TfidfVectorizer\n",
    "from sklearn.metrics.pairwise import cosine_similarity\n",
    "\n",
    "\n",
    "vectorizer = TfidfVectorizer()\n",
    "\n",
    "tfidf_matrix = vectorizer.fit_transform(cleaned_descriptions)\n",
    "\n",
    "#Calculating the similarity between the input string and all descriptions. The metric we are using here is cosine similarity.\n",
    "input_string = input(\"please ener your description.\")\n",
    "cleaned_input  = clean_text(input_string)\n",
    "input_vector = vectorizer.transform([cleaned_input])\n",
    "similarity_scores = cosine_similarity(input_vector, tfidf_matrix)[0]\n",
    "\n",
    "#Getting the indices of the top 5 matching descriptions\n",
    "top_indices = np.argsort(similarity_scores)[-5:][::-1]\n",
    "\n",
    "\n",
    "#print(f\"Your description \\n{cleaned_input} \\n\")\n",
    "print(\"Top 5 matching descriptions: \\n\")\n",
    "for index in top_indices:\n",
    "    print(cleaned_descriptions[index]+\"\\n\")"
   ]
  }
 ],
 "metadata": {
  "kernelspec": {
   "display_name": "Python 3 (ipykernel)",
   "language": "python",
   "name": "python3"
  },
  "language_info": {
   "codemirror_mode": {
    "name": "ipython",
    "version": 3
   },
   "file_extension": ".py",
   "mimetype": "text/x-python",
   "name": "python",
   "nbconvert_exporter": "python",
   "pygments_lexer": "ipython3",
   "version": "3.9.13"
  }
 },
 "nbformat": 4,
 "nbformat_minor": 5
}
